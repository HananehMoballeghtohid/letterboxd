{
 "cells": [
  {
   "cell_type": "code",
   "execution_count": 1,
   "metadata": {},
   "outputs": [],
   "source": [
    "import pandas as pd"
   ]
  },
  {
   "cell_type": "markdown",
   "metadata": {},
   "source": [
    "# Watchlists:"
   ]
  },
  {
   "cell_type": "markdown",
   "metadata": {},
   "source": [
    "## 1. Opening watchlists:"
   ]
  },
  {
   "cell_type": "code",
   "execution_count": 3,
   "metadata": {},
   "outputs": [
    {
     "data": {
      "text/html": [
       "<div>\n",
       "<style scoped>\n",
       "    .dataframe tbody tr th:only-of-type {\n",
       "        vertical-align: middle;\n",
       "    }\n",
       "\n",
       "    .dataframe tbody tr th {\n",
       "        vertical-align: top;\n",
       "    }\n",
       "\n",
       "    .dataframe thead th {\n",
       "        text-align: right;\n",
       "    }\n",
       "</style>\n",
       "<table border=\"1\" class=\"dataframe\">\n",
       "  <thead>\n",
       "    <tr style=\"text-align: right;\">\n",
       "      <th></th>\n",
       "      <th>id</th>\n",
       "      <th>Name</th>\n",
       "      <th>Year</th>\n",
       "    </tr>\n",
       "  </thead>\n",
       "  <tbody>\n",
       "    <tr>\n",
       "      <th>0</th>\n",
       "      <td>93573</td>\n",
       "      <td>May Days</td>\n",
       "      <td>1978</td>\n",
       "    </tr>\n",
       "    <tr>\n",
       "      <th>1</th>\n",
       "      <td>240928</td>\n",
       "      <td>With the Blood of Others</td>\n",
       "      <td>1974</td>\n",
       "    </tr>\n",
       "    <tr>\n",
       "      <th>2</th>\n",
       "      <td>202934</td>\n",
       "      <td>They Kill Me If I Don't Work and If I Work The...</td>\n",
       "      <td>1974</td>\n",
       "    </tr>\n",
       "    <tr>\n",
       "      <th>3</th>\n",
       "      <td>156311</td>\n",
       "      <td>Class of Struggle</td>\n",
       "      <td>1969</td>\n",
       "    </tr>\n",
       "    <tr>\n",
       "      <th>4</th>\n",
       "      <td>51326</td>\n",
       "      <td>The Bridge on the River Kwai</td>\n",
       "      <td>1957</td>\n",
       "    </tr>\n",
       "  </tbody>\n",
       "</table>\n",
       "</div>"
      ],
      "text/plain": [
       "       id                                               Name  Year\n",
       "0   93573                                           May Days  1978\n",
       "1  240928                           With the Blood of Others  1974\n",
       "2  202934  They Kill Me If I Don't Work and If I Work The...  1974\n",
       "3  156311                                  Class of Struggle  1969\n",
       "4   51326                       The Bridge on the River Kwai  1957"
      ]
     },
     "execution_count": 3,
     "metadata": {},
     "output_type": "execute_result"
    }
   ],
   "source": [
    "navid_watchlist = pd.read_csv('navid-watchlist.csv')\n",
    "navid_watchlist.head()"
   ]
  },
  {
   "cell_type": "code",
   "execution_count": 4,
   "metadata": {},
   "outputs": [
    {
     "data": {
      "text/html": [
       "<div>\n",
       "<style scoped>\n",
       "    .dataframe tbody tr th:only-of-type {\n",
       "        vertical-align: middle;\n",
       "    }\n",
       "\n",
       "    .dataframe tbody tr th {\n",
       "        vertical-align: top;\n",
       "    }\n",
       "\n",
       "    .dataframe thead th {\n",
       "        text-align: right;\n",
       "    }\n",
       "</style>\n",
       "<table border=\"1\" class=\"dataframe\">\n",
       "  <thead>\n",
       "    <tr style=\"text-align: right;\">\n",
       "      <th></th>\n",
       "      <th>id</th>\n",
       "      <th>Name</th>\n",
       "      <th>Year</th>\n",
       "    </tr>\n",
       "  </thead>\n",
       "  <tbody>\n",
       "    <tr>\n",
       "      <th>0</th>\n",
       "      <td>51940</td>\n",
       "      <td>Three Colours: Red</td>\n",
       "      <td>1994</td>\n",
       "    </tr>\n",
       "    <tr>\n",
       "      <th>1</th>\n",
       "      <td>436873</td>\n",
       "      <td>Climax</td>\n",
       "      <td>2018</td>\n",
       "    </tr>\n",
       "    <tr>\n",
       "      <th>2</th>\n",
       "      <td>51190</td>\n",
       "      <td>Irreversible</td>\n",
       "      <td>2002</td>\n",
       "    </tr>\n",
       "    <tr>\n",
       "      <th>3</th>\n",
       "      <td>29041</td>\n",
       "      <td>Enter the Void</td>\n",
       "      <td>2009</td>\n",
       "    </tr>\n",
       "    <tr>\n",
       "      <th>4</th>\n",
       "      <td>50967</td>\n",
       "      <td>I Stand Alone</td>\n",
       "      <td>1998</td>\n",
       "    </tr>\n",
       "  </tbody>\n",
       "</table>\n",
       "</div>"
      ],
      "text/plain": [
       "       id                Name  Year\n",
       "0   51940  Three Colours: Red  1994\n",
       "1  436873              Climax  2018\n",
       "2   51190        Irreversible  2002\n",
       "3   29041      Enter the Void  2009\n",
       "4   50967       I Stand Alone  1998"
      ]
     },
     "execution_count": 4,
     "metadata": {},
     "output_type": "execute_result"
    }
   ],
   "source": [
    "hannah_watchlist = pd.read_csv('hannah-watchlist.csv')\n",
    "hannah_watchlist.head()"
   ]
  },
  {
   "cell_type": "markdown",
   "metadata": {},
   "source": [
    "## 2. Getting shared movies of both watchlists:"
   ]
  },
  {
   "cell_type": "code",
   "execution_count": 7,
   "metadata": {},
   "outputs": [],
   "source": [
    "merged_watchlist = pd.merge(hannah_watchlist, navid_watchlist)"
   ]
  },
  {
   "cell_type": "code",
   "execution_count": 9,
   "metadata": {},
   "outputs": [
    {
     "name": "stdout",
     "output_type": "stream",
     "text": [
      "        id                                       Name  Year\n",
      "0   307298                        The Disaster Artist  2017\n",
      "1    51613                             The Green Mile  1999\n",
      "2    51714                                      Alien  1979\n",
      "3    51686                         The Straight Story  1999\n",
      "4    42089                      A Brighter Summer Day  1991\n",
      "5    51024                        The Virgin Suicides  1999\n",
      "6    50717                           Marie Antoinette  2006\n",
      "7    45585                                       Tess  1979\n",
      "8    51271                             A Few Good Men  1992\n",
      "9    51366                              Almost Famous  2000\n",
      "10  311942                               Cameraperson  2016\n",
      "11   97672                               U.S. Go Home  1994\n",
      "12   35988                                      Yi Yi  2000\n",
      "13   49468  Women on the Verge of a Nervous Breakdown  1988\n",
      "14   51618                       Being John Malkovich  1999\n",
      "15  348772                                  Antiporno  2016\n",
      "16  277064                                     Barbie  2023\n",
      "17  879229                               Perfect Days  2023\n",
      "18   46729                              Shallow Grave  1994\n",
      "19  755564                              The Holdovers  2023\n",
      "20   51480               A.I. Artificial Intelligence  2001\n",
      "21   51438              The Bridges of Madison County  1995\n",
      "22   51238                         The Great Dictator  1940\n",
      "23   49883                      My Darling Clementine  1946\n"
     ]
    }
   ],
   "source": [
    "print(merged_watchlist)"
   ]
  }
 ],
 "metadata": {
  "kernelspec": {
   "display_name": "Python 3",
   "language": "python",
   "name": "python3"
  },
  "language_info": {
   "codemirror_mode": {
    "name": "ipython",
    "version": 3
   },
   "file_extension": ".py",
   "mimetype": "text/x-python",
   "name": "python",
   "nbconvert_exporter": "python",
   "pygments_lexer": "ipython3",
   "version": "3.11.9"
  }
 },
 "nbformat": 4,
 "nbformat_minor": 2
}
